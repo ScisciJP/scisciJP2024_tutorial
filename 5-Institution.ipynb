{
 "cells": [
  {
   "cell_type": "markdown",
   "metadata": {},
   "source": [
    "# There is more to come..."
   ]
  },
  {
   "cell_type": "markdown",
   "metadata": {},
   "source": [
    "Research institutions often face challenges in evaluating their policies and strategies effectively, while companies struggle to identify the best researchers for ambitious projects.\n",
    "\n",
    "Bibliometric analysis can unlock insights from the vast body of academic literature, and your data can enhance these findings.\n",
    "\n",
    "However, integrating proprietary data with academic metadata requires specialized knowledge and expertise in scientometrics.\n",
    "\n",
    "We provide foundational analyses and connect them to established contexts in previous studies.\n",
    "\n",
    "We look forward to broader collaborations with entrepreneurs!"
   ]
  }
 ],
 "metadata": {
  "language_info": {
   "name": "python"
  }
 },
 "nbformat": 4,
 "nbformat_minor": 2
}
